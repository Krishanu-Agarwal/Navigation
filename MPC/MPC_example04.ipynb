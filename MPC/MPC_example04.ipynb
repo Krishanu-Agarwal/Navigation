{
 "cells": [
  {
   "cell_type": "code",
   "execution_count": 1,
   "metadata": {},
   "outputs": [],
   "source": [
    "from casadi import *\n",
    "import do_mpc\n",
    "import numpy as np\n",
    "\n",
    "import matplotlib.pyplot as plt\n",
    "plt.ion()\n",
    "%matplotlib inline"
   ]
  },
  {
   "cell_type": "code",
   "execution_count": 2,
   "metadata": {},
   "outputs": [],
   "source": [
    "model = do_mpc.model.Model('continuous')"
   ]
  },
  {
   "cell_type": "code",
   "execution_count": 3,
   "metadata": {},
   "outputs": [],
   "source": [
    "x = model.set_variable('_x','x')\n",
    "y = model.set_variable('_x','y')\n",
    "theta = model.set_variable('_x','theta')\n",
    "\n",
    "v = model.set_variable('_u','v')\n",
    "w = model.set_variable('_u','w')\n",
    "\n",
    "dx = model.set_variable('_z','dx')\n",
    "dy = model.set_variable('_z','dy')\n",
    "dtheta = model.set_variable('_z','dtheta')\n",
    "\n",
    "x_goal = np.array([10,0,0])"
   ]
  },
  {
   "cell_type": "code",
   "execution_count": 4,
   "metadata": {},
   "outputs": [],
   "source": [
    "model.set_rhs('x',dx)\n",
    "model.set_rhs('y',dy)\n",
    "model.set_rhs('theta',dtheta)"
   ]
  },
  {
   "cell_type": "code",
   "execution_count": 5,
   "metadata": {},
   "outputs": [],
   "source": [
    "model_equation = vertcat(\n",
    "    dx - v*np.cos(theta),\n",
    "    dy - v*np.sin(theta),\n",
    "    dtheta - w\n",
    ")\n",
    "\n",
    "model.set_alg('model_equation', model_equation)"
   ]
  },
  {
   "cell_type": "code",
   "execution_count": 6,
   "metadata": {},
   "outputs": [
    {
     "data": {
      "text/plain": [
       "SX(sqrt((sq((10-x))+sq(y))))"
      ]
     },
     "execution_count": 6,
     "metadata": {},
     "output_type": "execute_result"
    }
   ],
   "source": [
    "model.set_expression('cost',sqrt((x_goal[0] - x)**2+(x_goal[1] - y)**2))"
   ]
  },
  {
   "cell_type": "code",
   "execution_count": 7,
   "metadata": {},
   "outputs": [],
   "source": [
    "model.setup()"
   ]
  },
  {
   "cell_type": "code",
   "execution_count": 8,
   "metadata": {},
   "outputs": [],
   "source": [
    "mpc = do_mpc.controller.MPC(model)"
   ]
  },
  {
   "cell_type": "code",
   "execution_count": 9,
   "metadata": {},
   "outputs": [],
   "source": [
    "setup_mpc = {\n",
    "    'n_horizon': 100,\n",
    "    'n_robust': 0,\n",
    "    'open_loop': 0,\n",
    "    't_step': 0.04,\n",
    "    'state_discretization': 'collocation',\n",
    "    'collocation_type': 'radau',\n",
    "    'collocation_deg': 3,\n",
    "    'collocation_ni': 1,\n",
    "    'store_full_solution': True,\n",
    "    # Use MA27 linear solver in ipopt for faster calculations:\n",
    "    'nlpsol_opts': {'ipopt.linear_solver': 'mumps'}\n",
    "}\n",
    "mpc.set_param(**setup_mpc)"
   ]
  },
  {
   "cell_type": "code",
   "execution_count": 10,
   "metadata": {},
   "outputs": [],
   "source": [
    "mterm = model.aux['cost']\n",
    "lterm = model.aux['cost']\n",
    "\n",
    "mpc.set_objective(mterm,lterm)\n",
    "\n",
    "mpc.set_rterm(v=0.1,w=0.1)"
   ]
  },
  {
   "cell_type": "code",
   "execution_count": 11,
   "metadata": {},
   "outputs": [],
   "source": [
    "mpc.bounds['lower','_u','v'] = -2\n",
    "mpc.bounds['upper','_u','v'] = 2\n",
    "mpc.bounds['lower','_u','w'] = -2\n",
    "mpc.bounds['upper','_u','w'] = 2"
   ]
  },
  {
   "cell_type": "code",
   "execution_count": 12,
   "metadata": {},
   "outputs": [],
   "source": [
    "mpc.setup()"
   ]
  },
  {
   "cell_type": "code",
   "execution_count": 13,
   "metadata": {},
   "outputs": [],
   "source": [
    "estimator = do_mpc.estimator.StateFeedback(model)\n",
    "simulator = do_mpc.simulator.Simulator(model)\n"
   ]
  },
  {
   "cell_type": "code",
   "execution_count": 14,
   "metadata": {},
   "outputs": [],
   "source": [
    "params_simulator = {\n",
    "    # Note: cvode doesn't support DAE systems.\n",
    "    'integration_tool': 'idas',\n",
    "    'abstol': 1e-8,\n",
    "    'reltol': 1e-8,\n",
    "    't_step': 0.04\n",
    "}\n",
    "\n",
    "simulator.set_param(**params_simulator)"
   ]
  },
  {
   "cell_type": "code",
   "execution_count": 15,
   "metadata": {},
   "outputs": [],
   "source": [
    "simulator.setup()"
   ]
  },
  {
   "cell_type": "code",
   "execution_count": 16,
   "metadata": {},
   "outputs": [],
   "source": [
    "simulator.x0 = np.zeros(3)\n",
    "\n",
    "x0 = simulator.x0.cat.full()\n",
    "\n",
    "mpc.x0 = x0\n",
    "estimator.x0 = x0\n",
    "\n",
    "mpc.set_initial_guess()"
   ]
  },
  {
   "cell_type": "code",
   "execution_count": 17,
   "metadata": {},
   "outputs": [
    {
     "name": "stdout",
     "output_type": "stream",
     "text": [
      "\n",
      "******************************************************************************\n",
      "This program contains Ipopt, a library for large-scale nonlinear optimization.\n",
      " Ipopt is released as open source code under the Eclipse Public License (EPL).\n",
      "         For more information visit https://github.com/coin-or/Ipopt\n",
      "******************************************************************************\n",
      "\n",
      "This is Ipopt version 3.14.11, running with linear solver MUMPS 5.4.1.\n",
      "\n",
      "Number of nonzeros in equality constraint Jacobian...:     8903\n",
      "Number of nonzeros in inequality constraint Jacobian.:        0\n",
      "Number of nonzeros in Lagrangian Hessian.............:     1501\n",
      "\n",
      "Total number of variables............................:     2915\n",
      "                     variables with only lower bounds:        0\n",
      "                variables with lower and upper bounds:      200\n",
      "                     variables with only upper bounds:        0\n",
      "Total number of equality constraints.................:     2703\n",
      "Total number of inequality constraints...............:        0\n",
      "        inequality constraints with only lower bounds:        0\n",
      "   inequality constraints with lower and upper bounds:        0\n",
      "        inequality constraints with only upper bounds:        0\n",
      "\n",
      "iter    objective    inf_pr   inf_du lg(mu)  ||d||  lg(rg) alpha_du alpha_pr  ls\n",
      "   0  1.0100000e+03 0.00e+00 1.96e-01  -1.0 0.00e+00    -  0.00e+00 0.00e+00   0\n",
      "   1  7.3751302e+02 9.20e-15 7.38e-01  -1.0 8.02e+00  -4.0 3.42e-01 5.08e-01f  1\n",
      "   2  6.5325934e+02 8.44e-08 2.57e-01  -1.0 4.28e+00  -4.0 6.61e-01 4.04e-01f  1\n",
      "   3  6.1206273e+02 8.38e-08 4.91e-02  -1.7 1.98e+00  -4.0 6.90e-01 7.86e-01f  1\n",
      "   4  6.1206285e+02 2.12e-14 2.96e+08  -1.7 4.23e-06  13.8 1.00e+00 1.00e+00h  1\n",
      "MUMPS returned INFO(1) = -9 and requires more memory, reallocating.  Attempt 1\n",
      "  Increasing icntl[13] from 1000 to 2000.\n",
      "Cannot call restoration phase at point that is almost feasible (violation 2.124516e-14).\n",
      "Abort in line search due to no other fall back.\n",
      "\n",
      "Number of Iterations....: 4\n",
      "\n",
      "                                   (scaled)                 (unscaled)\n",
      "Objective...............:   6.1206284643407650e+02    6.1206284643407650e+02\n",
      "Dual infeasibility......:   2.9601545257294738e+08    2.9601545257294738e+08\n",
      "Constraint violation....:   2.1245158410287956e-14    2.1245158410287956e-14\n",
      "Variable bound violation:   0.0000000000000000e+00    0.0000000000000000e+00\n",
      "Complementarity.........:   2.0000785122869305e-02    2.0000785122869305e-02\n",
      "Overall NLP error.......:   1.3312094263442342e+01    2.9601545257294738e+08\n",
      "\n",
      "\n",
      "Number of objective function evaluations             = 13\n",
      "Number of objective gradient evaluations             = 6\n",
      "Number of equality constraint evaluations            = 13\n",
      "Number of inequality constraint evaluations          = 0\n",
      "Number of equality constraint Jacobian evaluations   = 6\n",
      "Number of inequality constraint Jacobian evaluations = 0\n",
      "Number of Lagrangian Hessian evaluations             = 5\n",
      "Total seconds in IPOPT                               = 1.512\n",
      "\n",
      "EXIT: Error in step computation!\n",
      "           S  :   t_proc      (avg)   t_wall      (avg)    n_eval\n",
      "       nlp_f  |        0 (       0)  53.00us (  4.08us)        13\n",
      "       nlp_g  |        0 (       0) 683.00us ( 52.54us)        13\n",
      "  nlp_grad_f  |        0 (       0) 103.00us ( 14.71us)         7\n",
      "  nlp_hess_l  |        0 (       0) 309.00us ( 61.80us)         5\n",
      "   nlp_jac_g  |   2.00ms (285.71us) 727.00us (103.86us)         7\n",
      "       total  |   1.51 s (  1.51 s)   1.51 s (  1.51 s)         1\n"
     ]
    }
   ],
   "source": [
    "u0 = mpc.make_step(x0)"
   ]
  },
  {
   "cell_type": "code",
   "execution_count": 18,
   "metadata": {},
   "outputs": [],
   "source": [
    "mpc_graphics = do_mpc.graphics.Graphics(mpc.data)"
   ]
  },
  {
   "cell_type": "code",
   "execution_count": 19,
   "metadata": {},
   "outputs": [
    {
     "data": {
      "image/png": "[encoded data removed]",
      "text/plain": [
       "<Figure size 640x480 with 4 Axes>"
      ]
     },
     "metadata": {},
     "output_type": "display_data"
    }
   ],
   "source": [
    "fig = plt.figure()\n",
    "\n",
    "ax1 = plt.subplot2grid((4, 1), (0, 0))\n",
    "ax2 = plt.subplot2grid((4, 1), (1, 0))\n",
    "ax3 = plt.subplot2grid((4, 1), (2, 0))\n",
    "ax4 = plt.subplot2grid((4, 1), (3, 0))"
   ]
  },
  {
   "cell_type": "code",
   "execution_count": 20,
   "metadata": {},
   "outputs": [],
   "source": [
    "mpc_graphics.add_line(var_type='_x', var_name='x', axis=ax1)\n",
    "mpc_graphics.add_line(var_type='_x', var_name='y', axis=ax2)\n",
    "mpc_graphics.add_line(var_type='_u', var_name='v', axis=ax3)\n",
    "mpc_graphics.add_line(var_type='_u', var_name='w', axis=ax4)"
   ]
  },
  {
   "cell_type": "code",
   "execution_count": 21,
   "metadata": {},
   "outputs": [
    {
     "data": {
      "image/png": "[encoded data removed]",
      "text/plain": [
       "<Figure size 640x480 with 4 Axes>"
      ]
     },
     "execution_count": 21,
     "metadata": {},
     "output_type": "execute_result"
    }
   ],
   "source": [
    "mpc_graphics.plot_predictions()\n",
    "mpc_graphics.reset_axes()\n",
    "\n",
    "fig"
   ]
  },
  {
   "cell_type": "code",
   "execution_count": 22,
   "metadata": {},
   "outputs": [],
   "source": [
    "%%capture\n",
    "# Quickly reset the history of the MPC data object.\n",
    "mpc.reset_history()\n",
    "\n",
    "n_steps = 100\n",
    "for k in range(n_steps):\n",
    "    u0 = mpc.make_step(x0)\n",
    "    y_next = simulator.make_step(u0)\n",
    "    x0 = estimator.make_step(y_next)"
   ]
  },
  {
   "cell_type": "code",
   "execution_count": 24,
   "metadata": {},
   "outputs": [],
   "source": [
    "from matplotlib.animation import FuncAnimation, FFMpegWriter, ImageMagickWriter\n",
    "\n",
    "# The function describing the gif:\n",
    "x_arr = mpc.data['_x']\n",
    "def update(t_ind):\n",
    "    mpc_graphics.plot_results(t_ind)\n",
    "    mpc_graphics.plot_predictions(t_ind)\n",
    "    mpc_graphics.reset_axes()\n",
    "\n",
    "\n",
    "anim = FuncAnimation(fig, update, frames=n_steps, repeat=False)\n",
    "gif_writer = ImageMagickWriter(fps=20)\n",
    "anim.save('anim_dip.gif', writer=gif_writer)"
   ]
  }
 ],
 "metadata": {
  "kernelspec": {
   "display_name": "MPC",
   "language": "python",
   "name": "python3"
  },
  "language_info": {
   "codemirror_mode": {
    "name": "ipython",
    "version": 3
   },
   "file_extension": ".py",
   "mimetype": "text/x-python",
   "name": "python",
   "nbconvert_exporter": "python",
   "pygments_lexer": "ipython3",
   "version": "3.11.3"
  },
  "orig_nbformat": 4
 },
 "nbformat": 4,
 "nbformat_minor": 2
}
