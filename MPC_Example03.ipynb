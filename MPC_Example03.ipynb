{
 "cells": [
  {
   "cell_type": "code",
   "execution_count": 16,
   "metadata": {},
   "outputs": [],
   "source": [
    "import numpy as np\n",
    "from scipy.optimize import minimize\n",
    "import matplotlib.pyplot as plt\n",
    "%matplotlib inline"
   ]
  },
  {
   "cell_type": "code",
   "execution_count": 17,
   "metadata": {},
   "outputs": [],
   "source": [
    "#Define model\n",
    "def model(u,x0,h):\n",
    "    x0[0] += h*u[0]*np.cos(x0[2])\n",
    "    x0[1] += h*u[0]*np.sin(x0[2])\n",
    "    x0[2] += h*u[1]\n",
    "    x0[2] = (x0[2] + np.pi)%(2*np.pi)-np.pi\n",
    "    return x0"
   ]
  },
  {
   "cell_type": "code",
   "execution_count": 18,
   "metadata": {},
   "outputs": [],
   "source": [
    "#Define objective function\n",
    "def objective(u,x0,x_goal,h):\n",
    "    J=0.\n",
    "    u = u.reshape((-1,2))\n",
    "    for i in u:\n",
    "        J =np.linalg.norm(x_goal[0:-1]-x0[0:-1])\n",
    "        x0 = model(i,x0,h)\n",
    "    return J\n",
    "\n",
    "#Define constraint function\n",
    "def constraint_ineq(u,umin,umax):\n",
    "    return np.concatenate([umax-u,u-umin])\n"
   ]
  },
  {
   "cell_type": "code",
   "execution_count": 19,
   "metadata": {},
   "outputs": [],
   "source": [
    "#Define the necessary variables\n",
    "x0 = np.zeros(3)\n",
    "x_goal = np.asarray([10,10,0])\n",
    "M = 20\n",
    "u0 = np.zeros(M*2)\n",
    "umin = -2.\n",
    "umax = 2.\n",
    "h = 0.1\n",
    "\n",
    "#Define Contraints\n",
    "constraints = [{'type':'ineq','fun':constraint_ineq, 'args': (umin,umax)}]\n"
   ]
  },
  {
   "cell_type": "code",
   "execution_count": 20,
   "metadata": {},
   "outputs": [
    {
     "name": "stdout",
     "output_type": "stream",
     "text": [
      "[0. 0. 0.] 0\n",
      "[-0.67092702  1.90180661 -2.34078305] [ 3.57729640e-04 -7.46478528e-05]\n",
      "[-0.76006533  0.61397033 -0.9372587 ] [ 0.00020407 -0.00028367]\n",
      "[-5.28114425e+10  1.40060127e+09  1.81605853e+00] [-51326242.67689259 -63846755.88659242]\n",
      "[-5.51157383e+10  2.77304268e+09 -8.77817424e-01] [-19190503.44516645 -34286280.6901637 ]\n",
      "[-5.52010541e+10  2.70850753e+09 -1.14118669e+00] [-58457998.44366634 -12387291.35728212]\n",
      "[ 3.71161926e+15 -2.28331247e+16 -1.32302274e+00] [3.90458873e+12 7.87006471e+12]\n",
      "[ 3.72964182e+15 -2.27979549e+16  1.61740353e+00] [1.16943977e+13 1.51790943e+13]\n",
      "[ 3.67003277e+15 -2.27222589e+16  2.93303226e+00] [1.81430699e+13 2.04312381e+13]\n",
      "[ 3.66424685e+15 -2.27080331e+16  5.95949525e-01] [2.19226041e+13 2.25399466e+13]\n",
      "[ 3.86393817e+15 -2.27537383e+16 -8.50022664e-01] [2.22509990e+13 2.10706911e+13]\n",
      "[ 4.17844854e+15 -2.27959913e+16 -2.91560787e+00] [1.90613093e+13 1.63267586e+13]\n",
      "[ 4.19742138e+15 -2.28051075e+16 -6.05497747e-01] [1.30126491e+13 9.29053134e+12]\n",
      "[ 4.15963558e+15 -2.28113133e+16 -2.07161160e-02] [5.35145442e+12 1.39566508e+12]\n",
      "[ 4.01496329e+15 -2.23478038e+16  7.71618902e-01] [-2.35736319e+12 -5.72483126e+12]\n",
      "[ 4.04073259e+15 -2.23639294e+16  2.09920185e+00] [-8.53603734e+12 -1.06456491e+13]\n",
      "[ 4.30010878e+15 -2.22467075e+16  2.08774318e+00] [-1.19402770e+13 -1.23598265e+13]\n",
      "[ 4.39993779e+15 -2.23104638e+16  1.53302296e+00] [-1.18787227e+13 -1.05240376e+13]\n",
      "[ 4.35042015e+15 -2.22594195e+16 -1.30669664e+00] [-8.36399212e+12 -5.51318975e+12]\n",
      "[ 4.50548806e+15 -2.22444349e+16 -1.57058700e+00] [-2.11552281e+12  1.66230686e+12]\n"
     ]
    }
   ],
   "source": [
    "x0 = np.zeros(3)\n",
    "u_ = 0\n",
    "for i in range(20):\n",
    "    print(x0,u_)\n",
    "    result = minimize(objective, x0=u0, args=(x0,x_goal,h), constraints=constraints)\n",
    "    u0[:-2] = result.x[2:]\n",
    "    u_ = result.x[0:2]\n",
    "    x0 = model(u_,x0,h)\n",
    "    # u0 = np.zeros(M*2)\n",
    "    # u0[:-2] = result.x[2:]"
   ]
  }
 ],
 "metadata": {
  "kernelspec": {
   "display_name": "MPC",
   "language": "python",
   "name": "python3"
  },
  "language_info": {
   "codemirror_mode": {
    "name": "ipython",
    "version": 3
   },
   "file_extension": ".py",
   "mimetype": "text/x-python",
   "name": "python",
   "nbconvert_exporter": "python",
   "pygments_lexer": "ipython3",
   "version": "3.11.3"
  },
  "orig_nbformat": 4
 },
 "nbformat": 4,
 "nbformat_minor": 2
}
